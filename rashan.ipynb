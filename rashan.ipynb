{
 "cells": [
  {
   "cell_type": "markdown",
   "metadata": {},
   "source": [
    "# COMP90051 Project 2"
   ]
  },
  {
   "cell_type": "code",
   "execution_count": 1,
   "metadata": {},
   "outputs": [],
   "source": [
    "# Do not edit. These are the only imports permitted.\n",
    "%matplotlib inline\n",
    "import numpy as np\n",
    "from numpy.linalg import inv\n",
    "import matplotlib.pyplot as plt\n",
    "from abc import ABC, abstractmethod"
   ]
  },
  {
   "cell_type": "markdown",
   "metadata": {},
   "source": [
    "## 1. Implementing ε-Greedy and UCB"
   ]
  },
  {
   "cell_type": "code",
   "execution_count": 2,
   "metadata": {},
   "outputs": [],
   "source": [
    "class MAB(ABC):\n",
    "    \"\"\"\n",
    "    Abstract class that represents a multi-armed bandit (MAB)\n",
    "    \"\"\"\n",
    "    \n",
    "    @abstractmethod\n",
    "    def play(self, tround, context):\n",
    "        \"\"\"\n",
    "        Play a round\n",
    "        \n",
    "        Arguments\n",
    "        =========\n",
    "        tround : int\n",
    "            positive integer identifying the round\n",
    "        \n",
    "        context : 1D float array, shape (self.ndims * self.narms), optional\n",
    "            context given to the arms\n",
    "        \n",
    "        Returns\n",
    "        =======\n",
    "        arm : int\n",
    "            the positive integer arm id for this round\n",
    "        \"\"\"\n",
    "    \n",
    "    @abstractmethod\n",
    "    def update(self, arm, reward, context):\n",
    "        \"\"\"\n",
    "        Updates the internal state of the MAB after a play\n",
    "        \n",
    "        Arguments\n",
    "        =========\n",
    "        arm : int\n",
    "            a positive integer arm id in {1, ..., self.narms}\n",
    "        \n",
    "        reward : float\n",
    "            reward received from arm\n",
    "        \n",
    "        context : 1D float array, shape (self.ndims * self.narms), optional\n",
    "            context given to arms\n",
    "        \"\"\""
   ]
  },
  {
   "cell_type": "code",
   "execution_count": 3,
   "metadata": {},
   "outputs": [],
   "source": [
    "class EpsGreedy(MAB):\n",
    "    \"\"\"\n",
    "    Epsilon-Greedy multi-armed bandit\n",
    "\n",
    "    Arguments\n",
    "    =========\n",
    "    narms : int\n",
    "        number of arms\n",
    "\n",
    "    epsilon : float\n",
    "        explore probability\n",
    "\n",
    "    Q0 : float, optional\n",
    "        initial value for the arms\n",
    "    \"\"\"\n",
    "    \n",
    "    def __init__(self, narms, epsilon, Q0=np.inf):\n",
    "        #define parameters\n",
    "        assert narms > 1, \"number of arms should be larger than 1\"\n",
    "        self.narms = narms\n",
    "        assert 0 <= epsilon <= 1, \"epsilon should be between 0 and 1\"\n",
    "        self.epsilon = epsilon\n",
    "        self.Q0 = Q0\n",
    "        self.mab = [] # internal state of the MAB, consist of\n",
    "                      # [round, accumulated reward, estimated Value] of all arms\n",
    "        # initialize mab\n",
    "        for i in range(self.narms):\n",
    "            self.mab.append([0,0,self.Q0])\n",
    "        \n",
    "    def play(self, tround, context=None):\n",
    "        tie_list = [] # list to hold all best arms\n",
    "        \n",
    "        # choose wheter to exploit or explore\n",
    "        if(np.random.uniform() > self.epsilon):\n",
    "            # exploit the best arm\n",
    "            mab_array = np.array(self.mab)\n",
    "            Q = np.amax(mab_array[:, [2]])\n",
    "            # find all arms with the best estimated reward\n",
    "            for i in range(len(self.mab)):\n",
    "                if(self.mab[i][2] == Q):\n",
    "                    tie_list.append(i + 1)\n",
    "            # tie breaking randomly\n",
    "            random_index = np.random.randint(len(tie_list))\n",
    "            return tie_list[random_index]\n",
    "        else:\n",
    "            #explore by choosing a random arm uniformly\n",
    "            random_index = np.random.randint(self.narms) + 1\n",
    "            return random_index\n",
    "        \n",
    "    def update(self, arm, reward, context=None):\n",
    "        arm = arm - 1\n",
    "        # update round\n",
    "        self.mab[arm][0] += 1\n",
    "        # update reward\n",
    "        self.mab[arm][1] += reward\n",
    "        # update estimated value\n",
    "        self.mab[arm][2] = float(self.mab[arm][1])/float(self.mab[arm][0])\n",
    "    "
   ]
  },
  {
   "cell_type": "code",
   "execution_count": 4,
   "metadata": {},
   "outputs": [],
   "source": [
    "class UCB(MAB):\n",
    "    \"\"\"\n",
    "    Upper Confidence Bound (UCB) multi-armed bandit\n",
    "\n",
    "    Arguments\n",
    "    =========\n",
    "    narms : int\n",
    "        number of arms\n",
    "\n",
    "    rho : float\n",
    "        positive real explore-exploit parameter\n",
    "\n",
    "    Q0 : float, optional\n",
    "        initial value for the arms\n",
    "    \"\"\"\n",
    "    \n",
    "    def __init__(self, narms, rho, Q0=np.inf):\n",
    "        #define parameters\n",
    "        assert narms > 1, \"number of arms should be larger than 1\"\n",
    "        self.narms = narms\n",
    "        assert rho > 0, \"real explore-exploit parameter should be larger than 0\"\n",
    "        self.rho = rho\n",
    "        self.Q0 = Q0\n",
    "        self.mab = [] # internal state of the MAB, consist of\n",
    "                      # [round, accumulated reward, estimated Value] of all arms\n",
    "        # initialize MAB\n",
    "        for i in range(self.narms):\n",
    "            self.mab.append([0,0,self.Q0])\n",
    "    \n",
    "    def play(self, tround, context=None):\n",
    "        tie_list = [] # list to hold all best arms\n",
    "        \n",
    "        # update estimated value with tround\n",
    "        for i in range(len(self.mab)):\n",
    "            Nt = self.mab[i][0]\n",
    "            if (Nt != 0): # do not update initial state\n",
    "                ut = float(self.mab[i][1]) / float(Nt)\n",
    "                self.mab[i][2] = ut + np.sqrt((self.rho * np.log(tround)) / float(Nt))\n",
    "\n",
    "        # exploit the best arm\n",
    "        mab_array = np.array(self.mab)\n",
    "        Q = np.amax(mab_array[:, [2]])\n",
    "        # find all arms with the best estimated reward\n",
    "        for i in range(len(self.mab)):\n",
    "            if (self.mab[i][2] == Q):\n",
    "                tie_list.append(i + 1)\n",
    "        # tie breaking randomly\n",
    "        random_index = np.random.randint(len(tie_list))\n",
    "        return tie_list[random_index]\n",
    "        \n",
    "    def update(self, arm, reward, context=None):\n",
    "        arm = arm - 1\n",
    "        # update round\n",
    "        self.mab[arm][0] += 1\n",
    "        # update reward\n",
    "        self.mab[arm][1] += reward\n",
    "        # estimated value is updated with play() since tround is required\n",
    "    "
   ]
  },
  {
   "cell_type": "markdown",
   "metadata": {},
   "source": [
    "## 2. The Basic Thompson Bandit"
   ]
  },
  {
   "cell_type": "code",
   "execution_count": 5,
   "metadata": {},
   "outputs": [],
   "source": [
    "class BetaThompson(MAB):\n",
    "    \"\"\"\n",
    "    Beta-Bernoulli Thompson sampling multi-armed bandit\n",
    "\n",
    "    Arguments\n",
    "    =========\n",
    "    narms : int\n",
    "        number of arms\n",
    "\n",
    "    alpha0 : float, optional\n",
    "        positive real prior hyperparameter\n",
    "\n",
    "    beta0 : float, optional\n",
    "        positive real prior hyperparameter\n",
    "    \"\"\"\n",
    "    \n",
    "    def __init__(self, narms, alpha0=1.0, beta0=1.0):\n",
    "        #define input parameters\n",
    "        assert narms > 1, \"number of arms should be larger than 1\"\n",
    "        self.narms = narms\n",
    "        assert (alpha0 >0 and beta0 > 0), \"alpha0 and beta0 should be larger than 0\"\n",
    "        self.alpha0 = alpha0\n",
    "        self.beta0 = beta0\n",
    "        self.mab = [] # internal state of the MAB, consist of\n",
    "                      # [round, S, F, estimated Value] of all arms      \n",
    "        # initialize MAB\n",
    "        for i in range(self.narms):\n",
    "            self.mab.append([0,self.alpha0,self.beta0,np.inf])\n",
    "    \n",
    "    def play(self, tround, context=None):\n",
    "        tie_list = [] # list to hold all best arms\n",
    "        \n",
    "        mab_array = np.array(self.mab)\n",
    "        Q = np.amax(mab_array[:, [2]])\n",
    "        # find all arms with the best result\n",
    "        for i in range(len(self.mab)):\n",
    "            if(self.mab[i][2] == Q):\n",
    "                tie_list.append(i + 1)\n",
    "        # tie breaking randomly\n",
    "        random_index = np.random.randint(len(tie_list))\n",
    "        return tie_list[random_index]\n",
    "        \n",
    "    def update(self, arm, reward, context=None):\n",
    "        arm = arm - 1\n",
    "        # update round\n",
    "        self.mab[arm][0] += 1\n",
    "        # update S and F based on reward\n",
    "        if reward == 1:\n",
    "            self.mab[arm][1] += self.alpha0\n",
    "        else:\n",
    "            self.mab[arm][2] += self.beta0\n",
    "        # update estimated value, since mean of beta(a,b) = a/(a+b)\n",
    "        self.mab[arm][3] = float(self.mab[arm][1])/(self.mab[arm][1]+self.mab[arm][2])\n",
    "        "
   ]
  },
  {
   "cell_type": "markdown",
   "metadata": {},
   "source": [
    "## 3. Off-Policy Evaluation"
   ]
  },
  {
   "cell_type": "code",
   "execution_count": 6,
   "metadata": {},
   "outputs": [],
   "source": [
    "# read the data file to get arms, rewards and context\n",
    "temp_arms = []\n",
    "temp_rewards = []\n",
    "temp_contexts = []\n",
    "for lines in open(\"dataset.txt\"):\n",
    "    # split lines\n",
    "    data = lines.replace('\\n','').rstrip().split(\" \")\n",
    "    # read arms\n",
    "    temp_arms.append(data[0])\n",
    "    # read rewards\n",
    "    temp_rewards.append(data[1])\n",
    "    # read context\n",
    "    temp_contexts.append(data[2:])\n",
    "    \n",
    "# convert temp list into numpy array for further processes\n",
    "arms = np.array(temp_arms, dtype=np.int16)  \n",
    "rewards = np.array(temp_rewards, dtype=np.int8)\n",
    "contexts = np.reshape(np.array(temp_contexts, dtype=np.float),(10000, 100))\n"
   ]
  },
  {
   "cell_type": "code",
   "execution_count": 7,
   "metadata": {},
   "outputs": [],
   "source": [
    "def offlineEvaluate(mab, arms, rewards, contexts, nrounds=None):\n",
    "    \"\"\"\n",
    "    Offline evaluation of a multi-armed bandit\n",
    "    \n",
    "    Arguments\n",
    "    =========\n",
    "    mab : instance of MAB\n",
    "    \n",
    "    arms : 1D int array, shape (nevents,) \n",
    "        integer arm id for each event\n",
    "    \n",
    "    rewards : 1D float array, shape (nevents,)\n",
    "        reward received for each event\n",
    "    \n",
    "    contexts : 2D float array, shape (nevents, mab.narms*nfeatures)\n",
    "        contexts presented to the arms (stacked horizontally) \n",
    "        for each event.\n",
    "        \n",
    "    nrounds : int, optional\n",
    "        number of matching events to evaluate `mab` on.\n",
    "    \n",
    "    Returns\n",
    "    =======\n",
    "    out : 1D float array\n",
    "        rewards for the matching events\n",
    "    \"\"\"\n",
    "    history = []\n",
    "    payoff = []\n",
    "    nevents = len(arms)\n",
    "    T = 1\n",
    "    # loop through all events (all records in data.txt)\n",
    "    for event in range(nevents):\n",
    "        # if T meets nround limit, break the loop\n",
    "        if (T > nrounds):\n",
    "            break\n",
    "        # if a match if found, update T\n",
    "        if (mab.play(T, contexts[event]) == arms[event]):\n",
    "            # update MAB\n",
    "            mab.update(arms[event], rewards[event], contexts[event])\n",
    "            # keep track of arms and rewards\n",
    "            history.append(arms[event])\n",
    "            payoff.append(rewards[event])\n",
    "            # go to next round\n",
    "            T = T + 1\n",
    "    return payoff\n",
    "    "
   ]
  },
  {
   "cell_type": "code",
   "execution_count": 8,
   "metadata": {},
   "outputs": [
    {
     "name": "stdout",
     "output_type": "stream",
     "text": [
      "EpsGreedy average reward 0.21\n"
     ]
    }
   ],
   "source": [
    "mab = EpsGreedy(10, 0.05)\n",
    "results_EpsGreedy = offlineEvaluate(mab, arms, rewards, contexts, 800)\n",
    "print('EpsGreedy average reward', np.mean(results_EpsGreedy))"
   ]
  },
  {
   "cell_type": "code",
   "execution_count": 9,
   "metadata": {},
   "outputs": [
    {
     "name": "stdout",
     "output_type": "stream",
     "text": [
      "UCB average reward 0.185\n"
     ]
    }
   ],
   "source": [
    "mab = UCB(10, 1.0)\n",
    "results_UCB = offlineEvaluate(mab, arms, rewards, contexts, 800)\n",
    "print('UCB average reward', np.mean(results_UCB))"
   ]
  },
  {
   "cell_type": "code",
   "execution_count": 15,
   "metadata": {},
   "outputs": [
    {
     "name": "stdout",
     "output_type": "stream",
     "text": [
      "BetaThompson average reward 0.16\n"
     ]
    }
   ],
   "source": [
    "mab = BetaThompson(10, 1.0, 1.0)\n",
    "results_BetaThompson = offlineEvaluate(mab, arms, rewards, contexts, 800)\n",
    "print('BetaThompson average reward', np.mean(results_BetaThompson))"
   ]
  },
  {
   "cell_type": "markdown",
   "metadata": {},
   "source": [
    "## 4. Contextual Bandits - LinUCB"
   ]
  },
  {
   "cell_type": "code",
   "execution_count": 23,
   "metadata": {},
   "outputs": [],
   "source": [
    "class LinUCB(MAB):\n",
    "    \"\"\"\n",
    "    Contextual multi-armed bandit (LinUCB)\n",
    "\n",
    "    Arguments\n",
    "    =========\n",
    "    narms : int\n",
    "        number of arms\n",
    "\n",
    "    ndims : int\n",
    "        number of dimensions for each arm's context\n",
    "\n",
    "    alpha : float\n",
    "        positive real explore-exploit parameter\n",
    "    \"\"\"\n",
    "    def __init__(self, narms, ndims, alpha):\n",
    "        #define input parameters\n",
    "        assert narms > 1, \"number of arms should be larger than 1\"\n",
    "        self.narms = narms\n",
    "        assert ndims >= 1, \"number of dimensions should be at least 1\"\n",
    "        self.ndims = ndims\n",
    "        assert alpha > 0, \"real explore-exploit parameter should be larger than 0\"\n",
    "        self.alpha = alpha\n",
    "        \n",
    "        # internal state of MAB\n",
    "        self.A = []    #\n",
    "        self.b = []    #\n",
    "        self.p = []    # payoff\n",
    "        # initialize MAB\n",
    "        for i in range(self.narms):\n",
    "            # initialize A with d-dimensional identity matrix\n",
    "            self.A.append(np.identity(self.narms)) \n",
    "            # initialize b with d-dimensional zero matrix\n",
    "            self.b.append(np.zeros(self.narms))  \n",
    "            # initialize p with infinity\n",
    "            self.p.append(np.inf)\n",
    "        \n",
    "    def play(self, tround, context):\n",
    "        # reshape context\n",
    "        context = np.reshape(context,(self.ndims,self.narms))\n",
    "        \n",
    "        tie_list = [] # list to hold all best arms\n",
    "        \n",
    "        # update all arms payoff\n",
    "        for arm in range(self.narms):\n",
    "            # update p as linUCB Algorithm 1 line 9\n",
    "            theta = np.matmul(np.linalg.inv(self.A[arm]), self.b[arm])\n",
    "            xT_A_x = np.matmul(np.matmul(context[arm].transpose(), np.linalg.inv(self.A[arm])), context[arm])\n",
    "            self.p[arm] = np.add(np.matmul(theta.transpose(), context[arm]), self.alpha * np.sqrt(xT_A_x))\n",
    "        \n",
    "        Q = np.amax(np.array(self.p))\n",
    "        # find all arms with the best result\n",
    "        for i in range(self.narms):\n",
    "            if(self.p[i] == Q):\n",
    "                tie_list.append(i + 1)\n",
    "        # tie breaking randomly\n",
    "        random_index = np.random.randint(len(tie_list))\n",
    "        return tie_list[random_index]\n",
    "            \n",
    "    \n",
    "    def update(self, arm, reward, context):\n",
    "        arm = arm - 1\n",
    "        # reshape context\n",
    "        context = np.reshape(context,(self.ndims,self.narms))\n",
    "        # update A as LinUCB Algorithm 1 line 12\n",
    "        self.A[arm] = np.add(self.A[arm], np.matmul(context[arm], np.transpose(context[arm])))\n",
    "        # update b as linUCB Algorithm 1 line 13\n",
    "        self.b[arm] = np.add(self.b[arm], reward * context[arm])\n",
    "        # p is updated during play()\n",
    "    "
   ]
  },
  {
   "cell_type": "code",
   "execution_count": 24,
   "metadata": {},
   "outputs": [
    {
     "name": "stdout",
     "output_type": "stream",
     "text": [
      "LinUCB average reward 0.2675\n"
     ]
    }
   ],
   "source": [
    "mab = LinUCB(10, 10, 1.0)\n",
    "results_LinUCB = offlineEvaluate(mab, arms, rewards, contexts, 800)\n",
    "print('LinUCB average reward', np.mean(results_LinUCB))"
   ]
  },
  {
   "cell_type": "markdown",
   "metadata": {},
   "source": [
    "## 5. Contextual Bandits - LinThompson"
   ]
  },
  {
   "cell_type": "code",
   "execution_count": 25,
   "metadata": {},
   "outputs": [],
   "source": [
    "class LinThompson(MAB):\n",
    "    \"\"\"\n",
    "    Contextual Thompson sampled multi-armed bandit (LinThompson)\n",
    "\n",
    "    Arguments\n",
    "    =========\n",
    "    narms : int\n",
    "        number of arms\n",
    "\n",
    "    ndims : int\n",
    "        number of dimensions for each arm's context\n",
    "\n",
    "    v : float\n",
    "        positive real explore-exploit parameter\n",
    "    \"\"\"\n",
    "    \n",
    "    def __init__(self, narms, ndims, v):\n",
    "        #define input parameters\n",
    "        assert narms > 1, \"number of arms should be larger than 1\"\n",
    "        self.narms = narms\n",
    "        assert ndims >= 1, \"number of dimensions should be at least 1\"\n",
    "        self.ndims = ndims\n",
    "        assert v > 0, \"real explore-exploit parameter should be larger than 0\"\n",
    "        self.v = v\n",
    "        \n",
    "        # internal state of MAB\n",
    "        self.B = np.identity(self.ndims)\n",
    "        self.mean = np.zeros(self.ndims)\n",
    "        self.f = np.zeros(self.ndims)\n",
    "        self.p = [np.inf] * self.narms\n",
    "        \n",
    "    def play(self, tround, context):\n",
    "        # reshape context\n",
    "        context = np.reshape(context,(self.ndims,self.narms))\n",
    "        \n",
    "        tie_list = [] # list to hold all best arms\n",
    "        \n",
    "        # update all arms payoff\n",
    "        for arm in range(self.narms):\n",
    "            cov = (self.v**2)*np.linalg.inv(self.B)\n",
    "            mean_t = np.random.multivariate_normal(self.mean,cov)\n",
    "            self.p[arm] = np.matmul(context[arm].transpose(), mean_t)\n",
    "            \n",
    "        Q = np.amax(np.array(self.p))\n",
    "        # find all arms with the best result\n",
    "        for i in range(self.narms):\n",
    "            if(self.p[i] == Q):\n",
    "                tie_list.append(i + 1)\n",
    "        # tie breaking randomly\n",
    "        random_index = np.random.randint(len(tie_list))\n",
    "        return tie_list[random_index]\n",
    "    \n",
    "    def update(self, arm, reward, context):\n",
    "        arm = arm - 1\n",
    "        # reshape context\n",
    "        context = np.reshape(context,(self.ndims,self.narms))\n",
    "        # update B\n",
    "        self.B += np.matmul(context[arm], context[arm].transpose())\n",
    "        # update f\n",
    "        self.f += context[arm] * reward\n",
    "        # update mean\n",
    "        self.mean = np.matmul(np.linalg.inv(self.B), self.f)\n",
    "        # p is updated during play()\n",
    "    "
   ]
  },
  {
   "cell_type": "code",
   "execution_count": 27,
   "metadata": {},
   "outputs": [
    {
     "name": "stdout",
     "output_type": "stream",
     "text": [
      "LinThompson average reward 0.355\n"
     ]
    }
   ],
   "source": [
    "mab = LinThompson(10, 10, 1.0)\n",
    "results_LinThompson = offlineEvaluate(mab, arms, rewards, contexts, 800)\n",
    "print('LinThompson average reward', np.mean(results_LinThompson))"
   ]
  },
  {
   "cell_type": "markdown",
   "metadata": {},
   "source": [
    "## 6. Evaluation\n",
    "### 6.A."
   ]
  },
  {
   "cell_type": "code",
   "execution_count": 28,
   "metadata": {},
   "outputs": [
    {
     "data": {
      "image/png": "[encoded data removed]",
      "text/plain": [
       "<Figure size 432x288 with 1 Axes>"
      ]
     },
     "metadata": {
      "needs_background": "light"
     },
     "output_type": "display_data"
    }
   ],
   "source": [
    "plt.plot(np.cumsum(results_EpsGreedy)/np.asarray(range(1,801)) , label = \"Epsilon-Greedy\")\n",
    "plt.plot(np.cumsum(results_UCB)/np.asarray(range(1,801)), label = \"UCB\")\n",
    "plt.plot(np.cumsum(results_BetaThompson)/np.asarray(range(1,801)), label = \"BetaThompson\")\n",
    "plt.plot(np.cumsum(results_LinUCB)/np.asarray(range(1,801)), label = \"LinUCB\")\n",
    "plt.plot(np.cumsum(results_LinThompson)/np.asarray(range(1,801)), label = \"LinThompson\")\n",
    "plt.ylabel('running per-round cumulative reward')\n",
    "plt.xlabel('Rounds(T)')\n",
    "plt.legend(bbox_to_anchor=(1, -0.2))\n",
    "plt.show()"
   ]
  },
  {
   "cell_type": "markdown",
   "metadata": {},
   "source": [
    "### 6.B."
   ]
  },
  {
   "cell_type": "code",
   "execution_count": 20,
   "metadata": {},
   "outputs": [],
   "source": [
    "# manually define the grid of hyperparameters\n",
    "grid = [0.01,0.02,0.05,0.08,0.1,0.2,0.3,0.4,0.5,0.6,0.7,0.8,0.9,1.0,1.5,2,3,4,5,10]\n",
    "LinUCB_result = []\n",
    "LinThompson_result = [] \n",
    "# run LinUCB and LinThompson for all parameters in grid\n",
    "for n in grid:\n",
    "    mab1 = LinUCB(10, 10, n)\n",
    "    mab2 = LinThompson(10, 10, n)\n",
    "    results2_LinUCB = offlineEvaluate(mab1, arms, rewards, contexts, 800)\n",
    "    results2_LinThompson = offlineEvaluate(mab2, arms, rewards, contexts, 800)\n",
    "    # save average reward\n",
    "    LinUCB_result.append(np.mean(results2_LinUCB))\n",
    "    LinThompson_result.append(np.mean(results2_LinThompson))"
   ]
  },
  {
   "cell_type": "code",
   "execution_count": 21,
   "metadata": {},
   "outputs": [
    {
     "data": {
      "image/png": "[encoded data removed]",
      "text/plain": [
       "<Figure size 432x288 with 1 Axes>"
      ]
     },
     "metadata": {
      "needs_background": "light"
     },
     "output_type": "display_data"
    },
    {
     "data": {
      "image/png": "[encoded data removed]",
      "text/plain": [
       "<Figure size 432x288 with 1 Axes>"
      ]
     },
     "metadata": {
      "needs_background": "light"
     },
     "output_type": "display_data"
    }
   ],
   "source": [
    "# plot LinUCB\n",
    "plt.plot(grid,LinUCB_result, 'ro', label = \"LinUCB\")\n",
    "plt.ylabel('average reward')\n",
    "plt.xlabel('hyperparameters')\n",
    "plt.legend()\n",
    "plt.show()\n",
    "\n",
    "# plot LinThompson\n",
    "plt.plot(grid,LinThompson_result, 'bo', label = \"LinThompson\")\n",
    "plt.ylabel('average reward')\n",
    "plt.xlabel('hyperparameters')\n",
    "plt.legend()\n",
    "plt.show()"
   ]
  },
  {
   "cell_type": "code",
   "execution_count": null,
   "metadata": {},
   "outputs": [],
   "source": []
  }
 ],
 "metadata": {
  "kernelspec": {
   "display_name": "Python 3",
   "language": "python",
   "name": "python3"
  },
  "language_info": {
   "codemirror_mode": {
    "name": "ipython",
    "version": 3
   },
   "file_extension": ".py",
   "mimetype": "text/x-python",
   "name": "python",
   "nbconvert_exporter": "python",
   "pygments_lexer": "ipython3",
   "version": "3.7.2"
  }
 },
 "nbformat": 4,
 "nbformat_minor": 2
}
